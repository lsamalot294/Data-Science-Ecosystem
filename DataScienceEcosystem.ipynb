{
 "cells": [
  {
   "cell_type": "markdown",
   "id": "38c25842",
   "metadata": {},
   "source": [
    "# Data Science Tools and Ecosystem"
   ]
  },
  {
   "cell_type": "markdown",
   "id": "b0e0d894",
   "metadata": {},
   "source": [
    "## In this notebook, Data Science Tools and Ecosystem are summarized. "
   ]
  },
  {
   "cell_type": "markdown",
   "id": "6330bb0f",
   "metadata": {},
   "source": [
    "### __Objectives__"
   ]
  },
  {
   "cell_type": "markdown",
   "id": "9412ec00",
   "metadata": {},
   "source": [
    "Some of the popular languages that Data Scientists use are:\n",
    "\n",
    "-  Python\n",
    "-  R\n",
    "-  C++\n",
    "-  SQL"
   ]
  },
  {
   "cell_type": "markdown",
   "id": "ab90efd2",
   "metadata": {},
   "source": [
    "Some of the commonly used libraries used by Data Scientists include:\n",
    "1. NumPy\n",
    "2. Pandas\n",
    "3. Matplotlib\n",
    "4. Seaborn"
   ]
  },
  {
   "cell_type": "markdown",
   "id": "6ad295a3",
   "metadata": {},
   "source": [
    "### Data Science Tools\n",
    "\n",
    "\n",
    "| Tools     | Purpose |\n",
    "| --------- | ------- |\n",
    "| Jupyter Notebook | Running Code |\n",
    "|        SQL       |  Queriying Databases |\n",
    "|  Tableau         |  Visualization Tool  |\n",
    "| GitHub           |  Managing code and projects |"
   ]
  },
  {
   "cell_type": "markdown",
   "id": "79f4c3a7",
   "metadata": {},
   "source": [
    "## Below are a few examples of evaluating arithmetic expressions in Python"
   ]
  },
  {
   "cell_type": "markdown",
   "id": "b20d9742",
   "metadata": {},
   "source": [
    "### This a simple arithmetic expression to mutiply then add integers"
   ]
  },
  {
   "cell_type": "code",
   "execution_count": 13,
   "id": "56d5011d",
   "metadata": {},
   "outputs": [
    {
     "name": "stdout",
     "output_type": "stream",
     "text": [
      "Answer is: 17\n"
     ]
    }
   ],
   "source": [
    "def math_problem():\n",
    "    answer = ((3*4)+5)\n",
    "    print('Answer is:', answer)\n",
    "math_problem()"
   ]
  },
  {
   "cell_type": "markdown",
   "id": "16091677",
   "metadata": {},
   "source": [
    "### This will convert 200 minutes to hours by diving by 60"
   ]
  },
  {
   "cell_type": "code",
   "execution_count": 12,
   "id": "661742eb",
   "metadata": {},
   "outputs": [
    {
     "name": "stdout",
     "output_type": "stream",
     "text": [
      "200 minutes converts into approximately 3.33 hours\n"
     ]
    }
   ],
   "source": [
    "def min_hr_converter(min):\n",
    "    \"\"\"Convert minutes to hours\"\"\"\n",
    "    conversion = min / 60\n",
    "    rounded_ans = round(conversion, 2)\n",
    "    print(f\"{min} minutes converts into approximately {rounded_ans} hours\")\n",
    "\n",
    "# calling the function\n",
    "min_hr_converter(200)\n",
    "\n",
    "    \n",
    "    \n",
    "    "
   ]
  },
  {
   "cell_type": "markdown",
   "id": "f58ae046",
   "metadata": {},
   "source": [
    "## Author\n",
    "Leonardo Samalot"
   ]
  },
  {
   "cell_type": "code",
   "execution_count": null,
   "id": "794e174f",
   "metadata": {},
   "outputs": [],
   "source": []
  }
 ],
 "metadata": {
  "kernelspec": {
   "display_name": "Python 3 (ipykernel)",
   "language": "python",
   "name": "python3"
  },
  "language_info": {
   "codemirror_mode": {
    "name": "ipython",
    "version": 3
   },
   "file_extension": ".py",
   "mimetype": "text/x-python",
   "name": "python",
   "nbconvert_exporter": "python",
   "pygments_lexer": "ipython3",
   "version": "3.11.3"
  }
 },
 "nbformat": 4,
 "nbformat_minor": 5
}
